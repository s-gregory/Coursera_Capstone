{
  "nbformat": 4,
  "nbformat_minor": 0,
  "metadata": {
    "colab": {
      "name": "Comparing_the_demographics_and_facilities_of_London_Boroughs.ipynb",
      "provenance": []
    },
    "kernelspec": {
      "name": "python3",
      "display_name": "Python 3"
    }
  },
  "cells": [
    {
      "cell_type": "markdown",
      "metadata": {
        "id": "8y6TFzRm6xLd"
      },
      "source": [
        "<h2>Comparing the demographics and facilities of London neighbourhoods</h2>\n",
        "\n"
      ]
    },
    {
      "cell_type": "markdown",
      "metadata": {
        "id": "o_bjx10S6hc-"
      },
      "source": [
        "**Introduction to the project: background and aim**"
      ]
    },
    {
      "cell_type": "markdown",
      "metadata": {
        "id": "x386h905-C9o"
      },
      "source": [
        "London is one of the busiest cities in the world with over 8 million people calling it home. But do the demographics of the people who live in London, where they live and the facilities available to them, have distinct patterns? This project aims to investigate this.\n",
        "\n",
        "We will look at both the demographics of the population and the types of venues in each borough of London to paint a picture of the people and their lives. This will be done in two parts\n",
        "\n",
        "1.   We will explore the boroughs by their demographic data. This will involve grouping the boroughs based on their demographic metrics and exploring their characteristics. This will provide some insight into the people living in each borough.\n",
        "2.   We will then use the Foursquare API to investigate the types of venues found in each borough. This shows both practical facilities (shops, supermarkets, leisure centres) as well as sociable facilities (pubs, cafes, music venues). The analysis will include finding the most common categories of venues in each borough.\n",
        "\n",
        "The types of venues in an area influence and are influence by the people who live there. Therefore, with both of these analyses we can draw conclusions about the differences and similarites between boroughs.\n",
        "\n",
        "The application of this could be to identify areas which could benefit from certain facilities based on their demographics. It could also lead to suggestions for government funding in certain regions. For example, does a borough with lots of young people but low happiness score need more youth clubs? Are there not enough supermarkets in a borough which has a high population density? How is the frequency of gambling shops linked to an area's demographics?\n",
        "\n",
        "The audience for this could be a local government authority who want to compare their facilities to boroughs with similar demographics. Or, on a city-wide level, it could also be useful to government to identify regions which require more funding for certain facilities. It could also give an indiciation to people who want to open a business in London of where their audience lives and the other facilities in the area."
      ]
    },
    {
      "cell_type": "markdown",
      "metadata": {
        "id": "Rz88SCOn6pa2"
      },
      "source": [
        "**Description of the data used**"
      ]
    },
    {
      "cell_type": "markdown",
      "metadata": {
        "id": "-mVLDsDY86b3"
      },
      "source": [
        "The project will use two key datasets.\n",
        "\n",
        "1. Demographic data by borough from Greater London Authority. This displays key population metrics such as population density, average age, % of resident population born abroad and happiness score. This will be used to characterise each London borough's population as described above.\n",
        "https://data.london.gov.uk/dataset/london-borough-profiles \n",
        "2. Foursquare API data on venues in each borough. We will use the API to explore a radius around each borough and the different venues within this radius. These are split into categories such as restaurant, supermarket, pub etc. We can then calculate the proportion of facilities in different categories for each area. This is useful to understand the types of places that make up a neighbourhood."
      ]
    }
  ]
}